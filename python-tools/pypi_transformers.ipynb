{
  "nbformat": 4,
  "nbformat_minor": 0,
  "metadata": {
    "colab": {
      "provenance": [],
      "authorship_tag": "ABX9TyOSZXSzhjrJ6stwdbYAaEcU",
      "include_colab_link": true
    },
    "kernelspec": {
      "name": "python3",
      "display_name": "Python 3"
    },
    "language_info": {
      "name": "python"
    }
  },
  "cells": [
    {
      "cell_type": "markdown",
      "metadata": {
        "id": "view-in-github",
        "colab_type": "text"
      },
      "source": [
        "<a href=\"https://colab.research.google.com/github/adnaen/ai-dev-toolbox/blob/main/python-tools/pypi_transformers.ipynb\" target=\"_parent\"><img src=\"https://colab.research.google.com/assets/colab-badge.svg\" alt=\"Open In Colab\"/></a>"
      ]
    },
    {
      "cell_type": "markdown",
      "source": [
        "## [`transformers`](https://huggingface.co/docs/transformers/en/index)\n",
        "\n",
        "*maintained by Hugging face*"
      ],
      "metadata": {
        "id": "G8dtpTO9PqF6"
      }
    },
    {
      "cell_type": "markdown",
      "source": [
        "**Installation**\n",
        "\n",
        "> ```bash\n",
        "~ pip install transformers\n",
        "```\n",
        "> ```bash\n",
        "~ pip install \"transformers[torch]\"   # for cpu\n",
        "```"
      ],
      "metadata": {
        "id": "bjFyz1LEP9Z-"
      }
    },
    {
      "cell_type": "markdown",
      "source": [
        "#### installation test"
      ],
      "metadata": {
        "id": "EVrt9ChIQZJB"
      }
    },
    {
      "cell_type": "code",
      "source": [
        "from transformers import pipeline"
      ],
      "metadata": {
        "id": "BWb0aokiKTHF"
      },
      "execution_count": 1,
      "outputs": []
    },
    {
      "cell_type": "code",
      "source": [
        "loaded = pipeline('sentiment-analysis')"
      ],
      "metadata": {
        "id": "TkzqmPggKs-R",
        "colab": {
          "base_uri": "https://localhost:8080/"
        },
        "outputId": "3094c8cd-3306-402b-87ec-ab3c3dfa7b62"
      },
      "execution_count": 19,
      "outputs": [
        {
          "output_type": "stream",
          "name": "stderr",
          "text": [
            "No model was supplied, defaulted to distilbert/distilbert-base-uncased-finetuned-sst-2-english and revision 714eb0f (https://huggingface.co/distilbert/distilbert-base-uncased-finetuned-sst-2-english).\n",
            "Using a pipeline without specifying a model name and revision in production is not recommended.\n",
            "Device set to use cpu\n"
          ]
        }
      ]
    },
    {
      "cell_type": "code",
      "source": [
        "loaded(\"software development is fucking crazy!\")  # i'd love it, btw :)"
      ],
      "metadata": {
        "colab": {
          "base_uri": "https://localhost:8080/"
        },
        "id": "oH4DeOIHNDW3",
        "outputId": "d76f2e97-4883-460b-b968-42e3094435ef"
      },
      "execution_count": 21,
      "outputs": [
        {
          "output_type": "execute_result",
          "data": {
            "text/plain": [
              "[{'label': 'NEGATIVE', 'score': 0.9961483478546143}]"
            ]
          },
          "metadata": {},
          "execution_count": 21
        }
      ]
    },
    {
      "cell_type": "code",
      "source": [],
      "metadata": {
        "id": "v0TEeST5Ss0t"
      },
      "execution_count": null,
      "outputs": []
    }
  ]
}