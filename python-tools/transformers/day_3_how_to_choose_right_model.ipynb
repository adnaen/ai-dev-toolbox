{
  "nbformat": 4,
  "nbformat_minor": 0,
  "metadata": {
    "colab": {
      "provenance": [],
      "authorship_tag": "ABX9TyNh1/GGHbTEDbofZcqzJDQY",
      "include_colab_link": true
    },
    "kernelspec": {
      "name": "python3",
      "display_name": "Python 3"
    },
    "language_info": {
      "name": "python"
    }
  },
  "cells": [
    {
      "cell_type": "markdown",
      "metadata": {
        "id": "view-in-github",
        "colab_type": "text"
      },
      "source": [
        "<a href=\"https://colab.research.google.com/github/adnaen/ai-dev-toolbox/blob/main/python-tools/transformers/day_3_how_to_choose_right_model.ipynb\" target=\"_parent\"><img src=\"https://colab.research.google.com/assets/colab-badge.svg\" alt=\"Open In Colab\"/></a>"
      ]
    },
    {
      "cell_type": "markdown",
      "source": [
        "# calculate model size with model param size\n",
        "\n",
        "- depends : `model params`, `weight dtype`\n",
        "\n",
        "```\n",
        "no_of_byte x model_param  = model weight file size\n",
        "```\n",
        "\n",
        "e.g.\n",
        "  - model param = 7B\n",
        "  - dtype       = float32\n",
        "\n",
        "`7 x 4 = 28GB 🥴`"
      ],
      "metadata": {
        "id": "ogihUjz8feZ1"
      }
    },
    {
      "cell_type": "markdown",
      "source": [
        "# How to reduce model file size (a.k.a Quantization)\n",
        "\n",
        "- reduce the dtype to\n",
        "    - `float16(2 byte)`\n",
        "    - `int8(1 byte)`\n",
        "    - `int4(a nibble)`\n",
        "\n",
        "`ofcourse, it affect model response quality but it get high speed and can run in any device`"
      ],
      "metadata": {
        "id": "c33Y8YUQgVPw"
      }
    },
    {
      "cell_type": "markdown",
      "source": [
        "# Common model formats\n",
        "\n",
        "- `.onnx` (open neural network exchange) : optmized for production.\n",
        "- `.bin` : standard pytorch model.\n",
        "- `.safetensors` : safe, memory mapped tensors.\n",
        "- `.ggml`,`.gguf` : quantaized for cpu using llama.cpp\n",
        "- `.tflite` : tensrflow lite model for mobail applications"
      ],
      "metadata": {
        "id": "NNWFza53iG4C"
      }
    },
    {
      "cell_type": "markdown",
      "source": [
        "# When load model into RAM\n",
        "\n",
        "| model size | RAM req (float16) | RAM req (float32) |\n",
        "|-----|-------| --- |\n",
        "| 2GB | ~4GB | ~8GB |\n",
        "| 6GB | ~12GB | ~24GB |\n",
        "| Quantized Models 6GB | ~6Gb |  |\n",
        "\n"
      ],
      "metadata": {
        "id": "VoGMntPsi-I7"
      }
    }
  ]
}